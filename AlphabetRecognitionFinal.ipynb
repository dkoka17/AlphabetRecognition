{
 "cells": [
  {
   "cell_type": "code",
   "execution_count": 1,
   "metadata": {},
   "outputs": [],
   "source": [
    "import numpy as np\n",
    "import matplotlib.pyplot as plt\n",
    "from keras.preprocessing.image import ImageDataGenerator\n",
    "from keras.callbacks import ModelCheckpoint\n",
    "from keras.callbacks import EarlyStopping\n",
    "from keras.models import Sequential\n",
    "from keras.layers import Conv2D\n",
    "from keras.preprocessing import image\n",
    "import keras\n",
    "import os\n",
    "import pickle\n",
    "import pyreadstat\n",
    "from keras.layers import MaxPooling2D, Flatten, Dense, Activation\n",
    "os.environ['TF_CPP_MIN_LOG_LEVEL'] = '2'"
   ]
  },
  {
   "cell_type": "markdown",
   "metadata": {},
   "source": [
    "# DataModel "
   ]
  },
  {
   "cell_type": "code",
   "execution_count": 2,
   "metadata": {},
   "outputs": [
    {
     "name": "stdout",
     "output_type": "stream",
     "text": [
      "Model: \"sequential\"\n",
      "_________________________________________________________________\n",
      "Layer (type)                 Output Shape              Param #   \n",
      "=================================================================\n",
      "conv2d (Conv2D)              (None, 38, 98, 32)        896       \n",
      "_________________________________________________________________\n",
      "max_pooling2d (MaxPooling2D) (None, 19, 49, 32)        0         \n",
      "_________________________________________________________________\n",
      "conv2d_1 (Conv2D)            (None, 19, 49, 64)        18496     \n",
      "_________________________________________________________________\n",
      "max_pooling2d_1 (MaxPooling2 (None, 9, 24, 64)         0         \n",
      "_________________________________________________________________\n",
      "conv2d_2 (Conv2D)            (None, 7, 22, 128)        73856     \n",
      "_________________________________________________________________\n",
      "max_pooling2d_2 (MaxPooling2 (None, 3, 11, 128)        0         \n",
      "_________________________________________________________________\n",
      "flatten (Flatten)            (None, 4224)              0         \n",
      "_________________________________________________________________\n",
      "dense (Dense)                (None, 128)               540800    \n",
      "_________________________________________________________________\n",
      "dense_1 (Dense)              (None, 33)                4257      \n",
      "=================================================================\n",
      "Total params: 638,305\n",
      "Trainable params: 638,305\n",
      "Non-trainable params: 0\n",
      "_________________________________________________________________\n"
     ]
    }
   ],
   "source": [
    "DataModel = Sequential()\n",
    "DataModel.add(Conv2D(32, (3, 3), input_shape = (40,100,3), activation = 'relu'))\n",
    "DataModel.add(MaxPooling2D(pool_size = (2, 2)))\n",
    "\n",
    "DataModel.add(Conv2D(64, (3, 3), activation = 'relu', padding = 'same'))\n",
    "DataModel.add(MaxPooling2D(pool_size = (2, 2)))\n",
    "\n",
    "DataModel.add(Conv2D(128, (3, 3), activation = 'relu', padding = 'valid'))\n",
    "DataModel.add(MaxPooling2D(pool_size = (2, 2)))\n",
    "\n",
    "DataModel.add(Flatten())\n",
    "DataModel.add(Dense(units = 128, activation = 'relu'))\n",
    "DataModel.add(Dense(units = 33, activation = 'softmax'))\n",
    "\n",
    "DataModel.compile(optimizer = 'adam', loss = 'categorical_crossentropy', metrics = ['accuracy'])\n",
    "\n",
    "DataModel.summary()\n"
   ]
  },
  {
   "cell_type": "markdown",
   "metadata": {},
   "source": [
    "## preparing traing and test data "
   ]
  },
  {
   "cell_type": "code",
   "execution_count": 3,
   "metadata": {},
   "outputs": [
    {
     "name": "stdout",
     "output_type": "stream",
     "text": [
      "Found 22091 images belonging to 33 classes.\n",
      "Found 528 images belonging to 33 classes.\n"
     ]
    }
   ],
   "source": [
    "dataGen=ImageDataGenerator(rescale = 1./255,shear_range = 0.2,zoom_range = 0.2)\n",
    "\n",
    "testGen=ImageDataGenerator(rescale = 1./255)\n",
    "\n",
    "dataFlow = dataGen.flow_from_directory(directory = 'Letters',target_size = (40,100),\n",
    "                                              batch_size = 32, class_mode = 'categorical')\n",
    "testFlow = testGen.flow_from_directory(directory = 'Letters23',target_size = (40,100),\n",
    "                                             batch_size = 32,class_mode = 'categorical')"
   ]
  },
  {
   "cell_type": "code",
   "execution_count": 4,
   "metadata": {},
   "outputs": [],
   "source": [
    "callback_reduce = keras.callbacks.ReduceLROnPlateau(monitor='val_loss', factor=0.2, patience=1, min_lr=0.0001)\n",
    "callback_stop = EarlyStopping(monitor='val_loss', min_delta=0, patience=2, verbose=0, mode='auto')\n"
   ]
  },
  {
   "cell_type": "markdown",
   "metadata": {},
   "source": [
    "# making training"
   ]
  },
  {
   "cell_type": "code",
   "execution_count": 5,
   "metadata": {
    "scrolled": true
   },
   "outputs": [
    {
     "name": "stdout",
     "output_type": "stream",
     "text": [
      "691/691 [==============================] - 66s 95ms/step - loss: 1.8546 - accuracy: 0.4941 - val_loss: 0.6897 - val_accuracy: 0.8163\n"
     ]
    }
   ],
   "source": [
    "history = DataModel.fit(dataFlow,epochs = 1,\n",
    "                    callbacks=[callback_reduce, callback_stop],validation_data = testFlow,)"
   ]
  },
  {
   "cell_type": "code",
   "execution_count": null,
   "metadata": {},
   "outputs": [],
   "source": [
    "## saving and testing"
   ]
  },
  {
   "cell_type": "code",
   "execution_count": null,
   "metadata": {},
   "outputs": [],
   "source": [
    "DataModel.save(\"4poch10model.h5\")"
   ]
  },
  {
   "cell_type": "code",
   "execution_count": 6,
   "metadata": {},
   "outputs": [],
   "source": [
    "def convertChar(response):\n",
    "    if response[0][0] == 1:\n",
    "        return('ა')\n",
    "    elif response[0][1] == 1:\n",
    "        return ('ბ')\n",
    "    elif response[0][2] == 1:\n",
    "        return ('გ')\n",
    "    elif response[0][3] == 1:\n",
    "        return ('დ')\n",
    "    elif response[0][4] == 1:\n",
    "        return ('ე')\n",
    "    elif response[0][5] == 1:\n",
    "        return ('ვ')\n",
    "    elif response[0][6] == 1:\n",
    "        return ('ზ')\n",
    "    elif response[0][7] == 1:\n",
    "        return ('თ')\n",
    "    elif response[0][8] == 1:\n",
    "        return ('ი')\n",
    "    elif response[0][9] == 1:\n",
    "        return ('კ')\n",
    "    elif response[0][10] == 1:\n",
    "        return ('ლ')\n",
    "    elif response[0][11] == 1:\n",
    "        return ('მ')\n",
    "    elif response[0][12] == 1:\n",
    "        return ('ნ')\n",
    "    elif response[0][13] == 1:\n",
    "        return ('ო')\n",
    "    elif response[0][14] == 1:\n",
    "        return ('პ')\n",
    "    elif response[0][15] == 1:\n",
    "        return ('ჟ')\n",
    "    elif response[0][16] == 1:\n",
    "        return ('რ')\n",
    "    elif response[0][17] == 1:\n",
    "        return ('ს')\n",
    "    elif response[0][18] == 1:\n",
    "        return ('ტ')\n",
    "    elif response[0][19] == 1:\n",
    "        return ('უ')\n",
    "    elif response[0][20] == 1:\n",
    "        return ('ფ')\n",
    "    elif response[0][21] == 1:\n",
    "        return ('ქ')\n",
    "    elif response[0][22] == 1:\n",
    "        return ('ღ')\n",
    "    elif response[0][23] == 1:\n",
    "        return ('ყ')\n",
    "    elif response[0][24] == 1:\n",
    "        return ('შ')\n",
    "    elif response[0][25] == 1:\n",
    "        return ('ჩ')\n",
    "    elif response[0][26] == 1:\n",
    "        return ('ც')\n",
    "    elif response[0][27] == 1:\n",
    "        return ('ძ')\n",
    "    elif response[0][28] == 1:\n",
    "        return ('წ')\n",
    "    elif response[0][29] == 1:\n",
    "        return ('ჭ')\n",
    "    elif response[0][30] == 1:\n",
    "        return ('ხ')\n",
    "    elif response[0][31] == 1:\n",
    "        return ('ჯ')\n",
    "    elif response[0][32] == 1:\n",
    "        return ('ჰ')"
   ]
  },
  {
   "cell_type": "code",
   "execution_count": 7,
   "metadata": {
    "scrolled": true
   },
   "outputs": [
    {
     "name": "stdout",
     "output_type": "stream",
     "text": [
      "-##############\n",
      "sum  : 528\n",
      "god  : 429\n",
      "min  is: 99\n",
      "percent  is: 0.8125\n"
     ]
    }
   ],
   "source": [
    "\n",
    "img1 = image.load_img(\"Letters/a1/a__!_kolhety_normal.png\", target_size = (40,100))\n",
    "img1 = image.img_to_array(img1)\n",
    "img1 = np.expand_dims(img1, axis = 0)\n",
    "res2 = DataModel.predict(img1)\n",
    "\n",
    "bigSum = 0\n",
    "biggod = 0\n",
    "bigmin = 0\n",
    "\n",
    "for k in range(33):\n",
    "    i = k +1\n",
    "    st = \"a\"    \n",
    "\n",
    "    if i < 10:\n",
    "        st = \"a\"\n",
    "    elif i < 20:\n",
    "        st = \"b\"\n",
    "    elif i <30:\n",
    "        st = \"c\"\n",
    "    else:\n",
    "        st = \"d\"\n",
    "\n",
    "    stPath = \"Letters23/\" + st + str(i) + \"/\"\n",
    "    directory = os.fsencode(stPath)\n",
    "    res2[0][k] = 1\n",
    "    res = convertChar(res2)\n",
    "    res2[0][k] = 0\n",
    "\n",
    "    sum = 0\n",
    "    god = 0\n",
    "    min = 0\n",
    "    for file in os.listdir(directory):\n",
    "            filename = os.fsdecode(file)\n",
    "            path = stPath + filename\n",
    "            img = image.load_img(path, target_size = (40,100))\n",
    "            img = image.img_to_array(img)\n",
    "            img = np.expand_dims(img, axis = 0)\n",
    "            result = DataModel.predict(img)\n",
    "            result = convertChar(result)\n",
    "            #print(result)\n",
    "            if(result == res):\n",
    "                god +=1\n",
    "                sum +=1\n",
    "            else:\n",
    "                min +=1\n",
    "                sum +=1\n",
    "\n",
    "    #print(res)\n",
    "    #print ('sum  : {}'.format(sum))\n",
    "    #print ('god  : {}'.format(god))\n",
    "    #print ('min  is: {}'.format(min))\n",
    "   # print ('percent  is: {}'.format(god/sum))\n",
    "    bigSum += sum\n",
    "    biggod += god\n",
    "    bigmin += min\n",
    "   # print(\"---------\")\n",
    "    \n",
    "print(\"-##############\")\n",
    "print ('sum  : {}'.format(bigSum))\n",
    "print ('god  : {}'.format(biggod))\n",
    "print ('min  is: {}'.format(bigmin))\n",
    "print ('percent  is: {}'.format(biggod/bigSum))"
   ]
  },
  {
   "cell_type": "code",
   "execution_count": null,
   "metadata": {},
   "outputs": [],
   "source": []
  }
 ],
 "metadata": {
  "kernelspec": {
   "display_name": "Python 3 (ipykernel)",
   "language": "python",
   "name": "python3"
  },
  "language_info": {
   "codemirror_mode": {
    "name": "ipython",
    "version": 3
   },
   "file_extension": ".py",
   "mimetype": "text/x-python",
   "name": "python",
   "nbconvert_exporter": "python",
   "pygments_lexer": "ipython3",
   "version": "3.9.7"
  }
 },
 "nbformat": 4,
 "nbformat_minor": 4
}
